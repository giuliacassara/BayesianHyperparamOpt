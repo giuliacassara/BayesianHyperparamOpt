{
  "nbformat": 4,
  "nbformat_minor": 0,
  "metadata": {
    "kernelspec": {
      "display_name": "Python 3",
      "language": "python",
      "name": "python3"
    },
    "language_info": {
      "codemirror_mode": {
        "name": "ipython",
        "version": 3
      },
      "file_extension": ".py",
      "mimetype": "text/x-python",
      "name": "python",
      "nbconvert_exporter": "python",
      "pygments_lexer": "ipython3",
      "version": "3.7.6"
    },
    "colab": {
      "name": "Iris_Optimization2.ipynb",
      "provenance": [],
      "collapsed_sections": [],
      "include_colab_link": true
    }
  },
  "cells": [
    {
      "cell_type": "markdown",
      "metadata": {
        "id": "view-in-github",
        "colab_type": "text"
      },
      "source": [
        "<a href=\"https://colab.research.google.com/github/giuliacern/HyperfMNIST/blob/master/Iris_Optimization2.ipynb\" target=\"_parent\"><img src=\"https://colab.research.google.com/assets/colab-badge.svg\" alt=\"Open In Colab\"/></a>"
      ]
    },
    {
      "cell_type": "code",
      "metadata": {
        "id": "uPHkMlJK45dT",
        "colab_type": "code",
        "outputId": "af3dd14d-62a2-4098-d9bc-cf3ada364521",
        "colab": {
          "base_uri": "https://localhost:8080/",
          "height": 121
        }
      },
      "source": [
        "from google.colab import drive\n",
        "drive.mount('/content/drive')"
      ],
      "execution_count": 1,
      "outputs": [
        {
          "output_type": "stream",
          "text": [
            "Go to this URL in a browser: https://accounts.google.com/o/oauth2/auth?client_id=947318989803-6bn6qk8qdgf4n4g3pfee6491hc0brc4i.apps.googleusercontent.com&redirect_uri=urn%3aietf%3awg%3aoauth%3a2.0%3aoob&response_type=code&scope=email%20https%3a%2f%2fwww.googleapis.com%2fauth%2fdocs.test%20https%3a%2f%2fwww.googleapis.com%2fauth%2fdrive%20https%3a%2f%2fwww.googleapis.com%2fauth%2fdrive.photos.readonly%20https%3a%2f%2fwww.googleapis.com%2fauth%2fpeopleapi.readonly\n",
            "\n",
            "Enter your authorization code:\n",
            "··········\n",
            "Mounted at /content/drive\n"
          ],
          "name": "stdout"
        }
      ]
    },
    {
      "cell_type": "code",
      "metadata": {
        "id": "IaIDJkS44seh",
        "colab_type": "code",
        "colab": {}
      },
      "source": [
        "!pip install GPyOpt\n",
        "!pip uninstall tensorflow\n",
        "!pip install tensorflow==2.0.0\n",
        "import tensorflow as tf\n",
        "print(tf.__version__)"
      ],
      "execution_count": 0,
      "outputs": []
    },
    {
      "cell_type": "code",
      "metadata": {
        "id": "BAVTzH715O_Z",
        "colab_type": "code",
        "colab": {}
      },
      "source": [
        "import GPy, GPyOpt\n",
        "import numpy as np\n",
        "import pandas as pd\n",
        "import random\n",
        "\n",
        "from tensorflow import keras\n",
        "from sklearn.preprocessing import OneHotEncoder"
      ],
      "execution_count": 0,
      "outputs": []
    },
    {
      "cell_type": "code",
      "metadata": {
        "id": "sVJ2FjIX4nGG",
        "colab_type": "code",
        "colab": {}
      },
      "source": [
        "# IRIS class\n",
        "class IRIS():\n",
        "    def __init__(self, l1, first_input=4, last_output=3,\n",
        "                 batch_size=10, \n",
        "                 epochs=10, \n",
        "                 validation_split=0.1):\n",
        "        self.__l1 = l1\n",
        "        self.__first_input = first_input\n",
        "        self.__last_output = last_output\n",
        "        self.batch_size = batch_size\n",
        "        self.epochs = epochs\n",
        "        self.validation_split = validation_split\n",
        "        self.__x_train, self.__x_test, self.__y_train, self.__y_test = self.iris_data()\n",
        "        self.__model = self.iris_model()\n",
        "        \n",
        "    def iris_data(self):\n",
        "        iris_data = load_iris() # load the iris dataset\n",
        "        x = iris_data.data\n",
        "        y_ = iris_data.target.reshape(-1, 1) # Convert data to a single column\n",
        "        # One Hot encode the class labels\n",
        "        encoder = OneHotEncoder(sparse=False)\n",
        "        y = encoder.fit_transform(y_)\n",
        "        # Split the data for training and testing\n",
        "        X_train, X_test, Y_train, Y_test = train_test_split(x, y, test_size=0.20)\n",
        "        return X_train, X_test, Y_train, Y_test\n",
        "    \n",
        "    \n",
        "    \n",
        "    def iris_model(self):\n",
        "        model = tf.keras.models.Sequential([\n",
        "        tf.keras.layers.Flatten(),\n",
        "        tf.keras.layers.Dense(self.__l1, input_shape=(self.__first_input,), activation=tf.nn.relu),\n",
        "        tf.keras.layers.Dense(self.__last_output, activation=tf.nn.softmax),\n",
        "        ])\n",
        "        \n",
        "        model.compile(loss='categorical_crossentropy',\n",
        "                      optimizer='adam',\n",
        "                      metrics=['accuracy'])\n",
        "        return model\n",
        "    \n",
        "    def iris_fit(self):        \n",
        "        self.__model.fit(self.__x_train, self.__y_train,\n",
        "                       batch_size=self.batch_size,\n",
        "                       epochs=self.epochs,\n",
        "                       verbose=0,\n",
        "                       validation_split=self.validation_split)\n",
        "    \n",
        "    def iris_evaluate(self):\n",
        "        self.iris_fit()   \n",
        "        evaluation = self.__model.evaluate(self.__x_test, self.__y_test, batch_size=self.batch_size, verbose=0)\n",
        "        return evaluation"
      ],
      "execution_count": 0,
      "outputs": []
    },
    {
      "cell_type": "code",
      "metadata": {
        "id": "TSg-cQLp4nGO",
        "colab_type": "code",
        "colab": {}
      },
      "source": [
        "def run_iris(l1=512, first_input=4, last_output=3,\n",
        "              batch_size=10, epochs=1, validation_split=0.1):\n",
        "    \n",
        "    _iris = IRIS(l1 = l1, first_input=first_input, last_output=last_output,\n",
        "                   batch_size=batch_size, epochs=epochs, \n",
        "                   validation_split=validation_split)\n",
        "    iris_evaluation = _iris.iris_evaluate()\n",
        "    return iris_evaluation"
      ],
      "execution_count": 0,
      "outputs": []
    },
    {
      "cell_type": "code",
      "metadata": {
        "id": "UU-qN2l04nGT",
        "colab_type": "code",
        "outputId": "abb2f7c4-afb0-4a39-f330-aa13640b891d",
        "colab": {
          "base_uri": "https://localhost:8080/",
          "height": 605
        }
      },
      "source": [
        "from sklearn.datasets import load_iris\n",
        "from sklearn.model_selection import train_test_split\n",
        "\n",
        "# the bounds dict should be in order of continuous type and then discrete type\n",
        "domain = [{'name': 'validation_split', 'type': 'continuous',  'domain': (0.1, 0.3)},\n",
        "          {'name': 'batch_size',       'type': 'discrete',    'domain': (10, 50)},\n",
        "          {'name': 'epochs',           'type': 'discrete',    'domain': (5, 10, 20)},\n",
        "          {'name': 'l1',               'type': 'discrete',    'domain': (64, 128, 256, 512, 1024)}\n",
        "]\n",
        "\n",
        "def f(x):\n",
        "    print(\"values on domain: \", x)\n",
        "    evaluation = run_iris(\n",
        "        batch_size = int(x[:,1]), \n",
        "        epochs = int(x[:,2]), \n",
        "        l1 = int(x[:,3]),\n",
        "        validation_split = float(x[:,0]))\n",
        "    print(\"LOSS:\\t{0} \\t ACCURACY:\\t{1}\".format(evaluation[0], evaluation[1]))\n",
        "    print(evaluation)\n",
        "    print(\"\\n\")\n",
        "    return evaluation[0]\n",
        "\n",
        "# optimizer\n",
        "opt_iris = GPyOpt.methods.BayesianOptimization(f=f, domain=domain)\n",
        "opt_iris.run_optimization(max_iter=10)\n",
        "        \n",
        "opt_iris.plot_acquisition()"
      ],
      "execution_count": 7,
      "outputs": [
        {
          "output_type": "stream",
          "text": [
            "values on domain:  [[ 0.20189694 50.         10.         64.        ]]\n",
            "LOSS:\t1.0608206987380981 \t ACCURACY:\t0.2666666805744171\n",
            "[1.0608206987380981, 0.26666668]\n",
            "\n",
            "\n",
            "values on domain:  [[1.06203632e-01 5.00000000e+01 2.00000000e+01 1.28000000e+02]]\n",
            "LOSS:\t0.6568496227264404 \t ACCURACY:\t1.0\n",
            "[0.6568496227264404, 1.0]\n",
            "\n",
            "\n",
            "values on domain:  [[2.44076293e-01 1.00000000e+01 1.00000000e+01 2.56000000e+02]]\n",
            "LOSS:\t0.44111714760462445 \t ACCURACY:\t0.9666666388511658\n",
            "[0.44111714760462445, 0.96666664]\n",
            "\n",
            "\n",
            "values on domain:  [[2.21986014e-01 5.00000000e+01 5.00000000e+00 2.56000000e+02]]\n",
            "LOSS:\t0.9036325812339783 \t ACCURACY:\t0.8999999761581421\n",
            "[0.9036325812339783, 0.9]\n",
            "\n",
            "\n",
            "values on domain:  [[1.08454972e-01 5.00000000e+01 5.00000000e+00 1.02400000e+03]]\n",
            "LOSS:\t0.6652805209159851 \t ACCURACY:\t0.7333333492279053\n",
            "[0.6652805209159851, 0.73333335]\n",
            "\n",
            "\n",
            "values on domain:  [[1.00e-01 1.00e+01 1.00e+01 2.56e+02]]\n",
            "LOSS:\t0.40580328305562335 \t ACCURACY:\t0.8333333134651184\n",
            "[0.40580328305562335, 0.8333333]\n",
            "\n",
            "\n",
            "values on domain:  [[1.00e-01 1.00e+01 1.00e+01 2.56e+02]]\n",
            "LOSS:\t0.4153839945793152 \t ACCURACY:\t0.8999999761581421\n",
            "[0.4153839945793152, 0.9]\n",
            "\n",
            "\n"
          ],
          "name": "stdout"
        }
      ]
    },
    {
      "cell_type": "code",
      "metadata": {
        "id": "gW7vai3cBtDO",
        "colab_type": "code",
        "outputId": "0defeaf6-dacb-4fbe-e478-16f4613cebe3",
        "colab": {
          "base_uri": "https://localhost:8080/",
          "height": 134
        }
      },
      "source": [
        "print(\"\"\"\n",
        "Optimized Parameters:\n",
        "\\t{0}:\\t{1}\n",
        "\\t{2}:\\t{3}\n",
        "\\t{4}:\\t{5}\n",
        "\\t{6}:\\t{7}\n",
        "\"\"\".format(domain[0][\"name\"], opt_iris.x_opt[0],\n",
        "           domain[1][\"name\"], opt_iris.x_opt[1],\n",
        "           domain[2][\"name\"], opt_iris.x_opt[2],\n",
        "           domain[3][\"name\"], opt_iris.x_opt[3]))"
      ],
      "execution_count": 8,
      "outputs": [
        {
          "output_type": "stream",
          "text": [
            "\n",
            "Optimized Parameters:\n",
            "\tvalidation_split:\t0.1\n",
            "\tbatch_size:\t10.0\n",
            "\tepochs:\t10.0\n",
            "\tl1:\t256.0\n",
            "\n"
          ],
          "name": "stdout"
        }
      ]
    },
    {
      "cell_type": "code",
      "metadata": {
        "id": "5oinQ1f9g72-",
        "colab_type": "code",
        "outputId": "fa895437-03ee-4ee1-d694-fc835a0da7d2",
        "colab": {
          "base_uri": "https://localhost:8080/",
          "height": 34
        }
      },
      "source": [
        "print(\"optimized loss: {0}\".format(opt_iris.fx_opt))"
      ],
      "execution_count": 9,
      "outputs": [
        {
          "output_type": "stream",
          "text": [
            "optimized loss: 0.40580328305562335\n"
          ],
          "name": "stdout"
        }
      ]
    },
    {
      "cell_type": "code",
      "metadata": {
        "id": "0a3b-zwphkQZ",
        "colab_type": "code",
        "colab": {}
      },
      "source": [
        "from sklearn import datasets\n",
        "from sklearn import tree        #importing subpackage from sklearn library\n",
        "from sklearn.pipeline import make_pipeline\n",
        "from sklearn import preprocessing\n",
        "from sklearn.model_selection import ShuffleSplit\n",
        "from sklearn.model_selection import cross_val_score\n",
        "iris = datasets.load_iris()\n",
        "from sklearn.model_selection import GridSearchCV\n"
      ],
      "execution_count": 0,
      "outputs": []
    },
    {
      "cell_type": "code",
      "metadata": {
        "id": "zkGhy9pWtav-",
        "colab_type": "code",
        "colab": {
          "base_uri": "https://localhost:8080/",
          "height": 1000
        },
        "outputId": "1b9d7338-f8cb-4a01-d7cc-eb705673fceb"
      },
      "source": [
        "# optimizer\n",
        "opt_iris = GPyOpt.methods.BayesianOptimization(f=f, domain=domain, acquisition_type ='LCB', verbosity = True, verbosity_model= True)\n",
        "opt_iris.run_optimization(max_iter=10)\n",
        "        \n",
        "opt_iris.plot_acquisition()"
      ],
      "execution_count": 10,
      "outputs": [
        {
          "output_type": "stream",
          "text": [
            "values on domain:  [[ 0.29415667 50.          5.         64.        ]]\n",
            "LOSS:\t1.1540392637252808 \t ACCURACY:\t0.36666667461395264\n",
            "[1.1540392637252808, 0.36666667]\n",
            "\n",
            "\n",
            "values on domain:  [[1.1185428e-01 5.0000000e+01 2.0000000e+01 1.2800000e+02]]\n",
            "LOSS:\t0.6667775511741638 \t ACCURACY:\t0.6000000238418579\n",
            "[0.6667775511741638, 0.6]\n",
            "\n",
            "\n",
            "values on domain:  [[ 0.16407906 50.         20.         64.        ]]\n",
            "LOSS:\t0.8384746313095093 \t ACCURACY:\t0.7333333492279053\n",
            "[0.8384746313095093, 0.73333335]\n",
            "\n",
            "\n",
            "values on domain:  [[  0.15866471  10.           5.         128.        ]]\n",
            "LOSS:\t0.688673754533132 \t ACCURACY:\t0.6666666865348816\n",
            "[0.688673754533132, 0.6666667]\n",
            "\n",
            "\n",
            "values on domain:  [[2.67396816e-01 5.00000000e+01 5.00000000e+00 1.02400000e+03]]\n",
            "LOSS:\t0.7415908575057983 \t ACCURACY:\t0.6000000238418579\n",
            "[0.7415908575057983, 0.6]\n",
            "\n",
            "\n",
            "values on domain:  [[  0.16197367  10.           5.         128.        ]]\n",
            "LOSS:\t0.5929286678632101 \t ACCURACY:\t0.6666666865348816\n",
            "[0.5929286678632101, 0.6666667]\n",
            "\n",
            "\n",
            "values on domain:  [[  0.29495145  10.          10.         128.        ]]\n",
            "LOSS:\t0.5138974984486898 \t ACCURACY:\t0.800000011920929\n",
            "[0.5138974984486898, 0.8]\n",
            "\n",
            "\n",
            "values on domain:  [[  0.3  10.   20.  128. ]]\n",
            "LOSS:\t0.3740582863489787 \t ACCURACY:\t1.0\n",
            "[0.3740582863489787, 1.0]\n",
            "\n",
            "\n",
            "values on domain:  [[  0.28710105  10.          20.         256.        ]]\n",
            "LOSS:\t0.31393784284591675 \t ACCURACY:\t1.0\n",
            "[0.31393784284591675, 1.0]\n",
            "\n",
            "\n",
            "values on domain:  [[1.2186295e-01 1.0000000e+01 5.0000000e+00 2.5600000e+02]]\n",
            "LOSS:\t0.5372594793637594 \t ACCURACY:\t0.800000011920929\n",
            "[0.5372594793637594, 0.8]\n",
            "\n",
            "\n",
            "values on domain:  [[  0.3  10.   20.  256. ]]\n",
            "LOSS:\t0.282694935798645 \t ACCURACY:\t0.9666666388511658\n",
            "[0.282694935798645, 0.96666664]\n",
            "\n",
            "\n",
            "values on domain:  [[  0.3  10.   20.  256. ]]\n",
            "LOSS:\t0.3776677946249644 \t ACCURACY:\t0.8333333134651184\n",
            "[0.3776677946249644, 0.8333333]\n",
            "\n",
            "\n"
          ],
          "name": "stdout"
        }
      ]
    },
    {
      "cell_type": "code",
      "metadata": {
        "id": "F94xyCzplKzN",
        "colab_type": "code",
        "colab": {
          "base_uri": "https://localhost:8080/",
          "height": 134
        },
        "outputId": "0246c984-095c-43f0-e25f-d57ff9c17ebe"
      },
      "source": [
        "print(\"\"\"\n",
        "Optimized Parameters:\n",
        "\\t{0}:\\t{1}\n",
        "\\t{2}:\\t{3}\n",
        "\\t{4}:\\t{5}\n",
        "\\t{6}:\\t{7}\n",
        "\"\"\".format(domain[0][\"name\"], opt_iris.x_opt[0],\n",
        "           domain[1][\"name\"], opt_iris.x_opt[1],\n",
        "           domain[2][\"name\"], opt_iris.x_opt[2],\n",
        "           domain[3][\"name\"], opt_iris.x_opt[3]))"
      ],
      "execution_count": 11,
      "outputs": [
        {
          "output_type": "stream",
          "text": [
            "\n",
            "Optimized Parameters:\n",
            "\tvalidation_split:\t0.3\n",
            "\tbatch_size:\t10.0\n",
            "\tepochs:\t20.0\n",
            "\tl1:\t256.0\n",
            "\n"
          ],
          "name": "stdout"
        }
      ]
    },
    {
      "cell_type": "code",
      "metadata": {
        "id": "43EuYRS8F-07",
        "colab_type": "code",
        "outputId": "3f43ca2b-0a16-4140-be18-b14874a8e1c0",
        "colab": {
          "base_uri": "https://localhost:8080/",
          "height": 34
        }
      },
      "source": [
        "print(\"optimized loss: {0}\".format(opt_iris.fx_opt))"
      ],
      "execution_count": 12,
      "outputs": [
        {
          "output_type": "stream",
          "text": [
            "optimized loss: 0.282694935798645\n"
          ],
          "name": "stdout"
        }
      ]
    },
    {
      "cell_type": "code",
      "metadata": {
        "id": "e_zfU2qo2zH3",
        "colab_type": "code",
        "colab": {
          "base_uri": "https://localhost:8080/",
          "height": 1000
        },
        "outputId": "af553642-a9d5-4915-85f5-9388808f307b"
      },
      "source": [
        "# Monte Carlo Markov Chain \n",
        "opt_iris = GPyOpt.methods.BayesianOptimization(model_type = 'GP_MCMC', f=f, domain=domain, acquisition_type ='EI_MCMC', verbosity = True, verbosity_model= True)\n",
        "opt_iris.run_optimization(max_iter=10)\n",
        "opt_iris.plot_acquisition()\n",
        "\n",
        "\n",
        "print(\"\"\"\n",
        "Optimized Parameters:\n",
        "\\t{0}:\\t{1}\n",
        "\\t{2}:\\t{3}\n",
        "\\t{4}:\\t{5}\n",
        "\\t{6}:\\t{7}\n",
        "\"\"\".format(domain[0][\"name\"], opt_iris.x_opt[0],\n",
        "           domain[1][\"name\"], opt_iris.x_opt[1],\n",
        "           domain[2][\"name\"], opt_iris.x_opt[2],\n",
        "           domain[3][\"name\"], opt_iris.x_opt[3]))"
      ],
      "execution_count": 13,
      "outputs": [
        {
          "output_type": "stream",
          "text": [
            "values on domain:  [[1.86353386e-01 1.00000000e+01 5.00000000e+00 1.02400000e+03]]\n",
            "LOSS:\t0.46791069706281024 \t ACCURACY:\t0.9333333373069763\n",
            "[0.46791069706281024, 0.93333334]\n",
            "\n",
            "\n",
            "values on domain:  [[  0.26721114  50.          10.         256.        ]]\n",
            "LOSS:\t0.7337373495101929 \t ACCURACY:\t0.800000011920929\n",
            "[0.7337373495101929, 0.8]\n",
            "\n",
            "\n",
            "values on domain:  [[1.667434e-01 1.000000e+01 1.000000e+01 2.560000e+02]]\n",
            "LOSS:\t0.5054951707522074 \t ACCURACY:\t0.8666666746139526\n",
            "[0.5054951707522074, 0.8666667]\n",
            "\n",
            "\n",
            "values on domain:  [[ 0.12847475 10.          5.         64.        ]]\n",
            "LOSS:\t0.7371299266815186 \t ACCURACY:\t0.6000000238418579\n",
            "[0.7371299266815186, 0.6]\n",
            "\n",
            "\n",
            "values on domain:  [[  0.29292095  10.           5.         128.        ]]\n"
          ],
          "name": "stdout"
        },
        {
          "output_type": "stream",
          "text": [
            "reconstraining parameters GP_regression.rbf\n",
            "reconstraining parameters GP_regression.Gaussian_noise.variance\n"
          ],
          "name": "stderr"
        },
        {
          "output_type": "stream",
          "text": [
            "LOSS:\t0.6711524526278178 \t ACCURACY:\t0.699999988079071\n",
            "[0.6711524526278178, 0.7]\n",
            "\n",
            "\n",
            "values on domain:  [[1.86353644e-01 1.00000000e+01 5.00000000e+00 1.02400000e+03]]\n",
            "LOSS:\t0.3614371716976166 \t ACCURACY:\t1.0\n",
            "[0.3614371716976166, 1.0]\n",
            "\n",
            "\n",
            "values on domain:  [[1.86356514e-01 1.00000000e+01 5.00000000e+00 1.02400000e+03]]\n",
            "LOSS:\t0.49149157603581745 \t ACCURACY:\t0.8999999761581421\n",
            "[0.49149157603581745, 0.9]\n",
            "\n",
            "\n",
            "values on domain:  [[1.45768571e-01 1.00000000e+01 5.00000000e+00 1.02400000e+03]]\n",
            "LOSS:\t0.4054810404777527 \t ACCURACY:\t0.9666666388511658\n",
            "[0.4054810404777527, 0.96666664]\n",
            "\n",
            "\n",
            "values on domain:  [[1.000e-01 1.000e+01 5.000e+00 1.024e+03]]\n",
            "LOSS:\t0.43198809027671814 \t ACCURACY:\t0.699999988079071\n",
            "[0.43198809027671814, 0.7]\n",
            "\n",
            "\n",
            "values on domain:  [[1.35498632e-01 1.00000000e+01 5.00000000e+00 1.02400000e+03]]\n",
            "LOSS:\t0.4013886551062266 \t ACCURACY:\t1.0\n",
            "[0.4013886551062266, 1.0]\n",
            "\n",
            "\n",
            "values on domain:  [[1.000e-01 1.000e+01 5.000e+00 1.024e+03]]\n",
            "LOSS:\t0.43741175532341003 \t ACCURACY:\t0.8666666746139526\n",
            "[0.43741175532341003, 0.8666667]\n",
            "\n",
            "\n",
            "values on domain:  [[1.000e-01 1.000e+01 1.000e+01 1.024e+03]]\n",
            "LOSS:\t0.3172875940799713 \t ACCURACY:\t1.0\n",
            "[0.3172875940799713, 1.0]\n",
            "\n",
            "\n",
            "values on domain:  [[1.000e-01 1.000e+01 1.000e+01 1.024e+03]]\n",
            "LOSS:\t0.4185432692368825 \t ACCURACY:\t0.7333333492279053\n",
            "[0.4185432692368825, 0.73333335]\n",
            "\n",
            "\n",
            "\n",
            "Optimized Parameters:\n",
            "\tvalidation_split:\t0.1\n",
            "\tbatch_size:\t10.0\n",
            "\tepochs:\t10.0\n",
            "\tl1:\t1024.0\n",
            "\n"
          ],
          "name": "stdout"
        }
      ]
    },
    {
      "cell_type": "code",
      "metadata": {
        "id": "WurvnOCeGx1r",
        "colab_type": "code",
        "colab": {}
      },
      "source": [
        "from sklearn.neural_network import MLPClassifier\n",
        "\n",
        "parameter_space = {\n",
        "    'hidden_layer_sizes': [(64,), (128,), (256,), (512,), (1024,)],\n",
        "    'batch_size':[10, 50],\n",
        "    'max_iter': [5, 10, 20]\n",
        "}"
      ],
      "execution_count": 0,
      "outputs": []
    },
    {
      "cell_type": "code",
      "metadata": {
        "id": "ze-TDxm3L8B2",
        "colab_type": "code",
        "colab": {}
      },
      "source": [
        "from sklearn.model_selection import GridSearchCV\n",
        "x = iris.data\n",
        "y_ = iris.target.reshape(-1, 1) # Convert data to a single column\n",
        "# One Hot encode the class labels\n",
        "encoder = OneHotEncoder(sparse=False)\n",
        "y = encoder.fit_transform(y_)\n",
        "# Split the data for training and testing\n",
        "X_train, X_test, Y_train, Y_test = train_test_split(x, y, test_size=0.20)"
      ],
      "execution_count": 0,
      "outputs": []
    },
    {
      "cell_type": "code",
      "metadata": {
        "id": "qX-GqW21_oX2",
        "colab_type": "code",
        "outputId": "c68e6553-3254-46c0-a8c0-00ab3d367705",
        "colab": {
          "base_uri": "https://localhost:8080/",
          "height": 370
        }
      },
      "source": [
        "mlp = MLPClassifier(solver = 'adam', validation_fraction = 0.1)\n",
        "clf = GridSearchCV(mlp, parameter_space, n_jobs=-1, cv=3)\n",
        "clf.fit(X_train, Y_train)"
      ],
      "execution_count": 0,
      "outputs": [
        {
          "output_type": "execute_result",
          "data": {
            "text/plain": [
              "GridSearchCV(cv=3, error_score=nan,\n",
              "             estimator=MLPClassifier(activation='relu', alpha=0.0001,\n",
              "                                     batch_size='auto', beta_1=0.9,\n",
              "                                     beta_2=0.999, early_stopping=False,\n",
              "                                     epsilon=1e-08, hidden_layer_sizes=(100,),\n",
              "                                     learning_rate='constant',\n",
              "                                     learning_rate_init=0.001, max_fun=15000,\n",
              "                                     max_iter=200, momentum=0.9,\n",
              "                                     n_iter_no_change=10,\n",
              "                                     nesterovs_momentum=True, power_t=0.5,\n",
              "                                     random_state=None, shuffle=True,\n",
              "                                     solver='adam', tol=0.0001,\n",
              "                                     validation_fraction=0.1, verbose=False,\n",
              "                                     warm_start=False),\n",
              "             iid='deprecated', n_jobs=-1,\n",
              "             param_grid={'batch_size': [10, 50],\n",
              "                         'hidden_layer_sizes': [(64,), (128,), (256,), (512,),\n",
              "                                                (1024,)],\n",
              "                         'max_iter': [5, 10, 20]},\n",
              "             pre_dispatch='2*n_jobs', refit=True, return_train_score=False,\n",
              "             scoring=None, verbose=0)"
            ]
          },
          "metadata": {
            "tags": []
          },
          "execution_count": 27
        }
      ]
    },
    {
      "cell_type": "code",
      "metadata": {
        "id": "Ap06U5e0pEad",
        "colab_type": "code",
        "outputId": "0a50d4be-a101-4359-a1d5-0eccee4cf0bc",
        "colab": {
          "base_uri": "https://localhost:8080/",
          "height": 554
        }
      },
      "source": [
        "# Best paramete set\n",
        "print('Best parameters found:\\n', clf.best_params_)\n",
        "\n",
        "# All results\n",
        "means = clf.cv_results_['mean_test_score']\n",
        "stds = clf.cv_results_['std_test_score']\n",
        "for mean, std, params in zip(means, stds, clf.cv_results_['params']):\n",
        "    print(\"%0.3f (+/-%0.03f) for %r\" % (mean, std * 2, params))\n"
      ],
      "execution_count": 0,
      "outputs": [
        {
          "output_type": "stream",
          "text": [
            "Best parameters found:\n",
            " {'batch_size': 10, 'hidden_layer_sizes': (1024,), 'max_iter': 20}\n",
            "0.308 (+/-0.201) for {'batch_size': 10, 'hidden_layer_sizes': (64,), 'max_iter': 5}\n",
            "0.483 (+/-0.366) for {'batch_size': 10, 'hidden_layer_sizes': (64,), 'max_iter': 10}\n",
            "0.683 (+/-0.047) for {'batch_size': 10, 'hidden_layer_sizes': (64,), 'max_iter': 20}\n",
            "0.417 (+/-0.232) for {'batch_size': 10, 'hidden_layer_sizes': (128,), 'max_iter': 5}\n",
            "0.658 (+/-0.062) for {'batch_size': 10, 'hidden_layer_sizes': (128,), 'max_iter': 10}\n",
            "0.683 (+/-0.047) for {'batch_size': 10, 'hidden_layer_sizes': (128,), 'max_iter': 20}\n",
            "0.433 (+/-0.309) for {'batch_size': 10, 'hidden_layer_sizes': (256,), 'max_iter': 5}\n",
            "0.683 (+/-0.047) for {'batch_size': 10, 'hidden_layer_sizes': (256,), 'max_iter': 10}\n",
            "0.683 (+/-0.047) for {'batch_size': 10, 'hidden_layer_sizes': (256,), 'max_iter': 20}\n",
            "0.658 (+/-0.062) for {'batch_size': 10, 'hidden_layer_sizes': (512,), 'max_iter': 5}\n",
            "0.683 (+/-0.047) for {'batch_size': 10, 'hidden_layer_sizes': (512,), 'max_iter': 10}\n",
            "0.708 (+/-0.085) for {'batch_size': 10, 'hidden_layer_sizes': (512,), 'max_iter': 20}\n",
            "0.608 (+/-0.085) for {'batch_size': 10, 'hidden_layer_sizes': (1024,), 'max_iter': 5}\n",
            "0.675 (+/-0.041) for {'batch_size': 10, 'hidden_layer_sizes': (1024,), 'max_iter': 10}\n",
            "0.750 (+/-0.082) for {'batch_size': 10, 'hidden_layer_sizes': (1024,), 'max_iter': 20}\n",
            "0.225 (+/-0.601) for {'batch_size': 50, 'hidden_layer_sizes': (64,), 'max_iter': 5}\n",
            "0.208 (+/-0.484) for {'batch_size': 50, 'hidden_layer_sizes': (64,), 'max_iter': 10}\n",
            "0.375 (+/-0.471) for {'batch_size': 50, 'hidden_layer_sizes': (64,), 'max_iter': 20}\n",
            "0.200 (+/-0.216) for {'batch_size': 50, 'hidden_layer_sizes': (128,), 'max_iter': 5}\n",
            "0.108 (+/-0.306) for {'batch_size': 50, 'hidden_layer_sizes': (128,), 'max_iter': 10}\n",
            "0.217 (+/-0.306) for {'batch_size': 50, 'hidden_layer_sizes': (128,), 'max_iter': 20}\n",
            "0.108 (+/-0.306) for {'batch_size': 50, 'hidden_layer_sizes': (256,), 'max_iter': 5}\n",
            "0.058 (+/-0.103) for {'batch_size': 50, 'hidden_layer_sizes': (256,), 'max_iter': 10}\n",
            "0.608 (+/-0.118) for {'batch_size': 50, 'hidden_layer_sizes': (256,), 'max_iter': 20}\n",
            "0.008 (+/-0.024) for {'batch_size': 50, 'hidden_layer_sizes': (512,), 'max_iter': 5}\n",
            "0.392 (+/-0.340) for {'batch_size': 50, 'hidden_layer_sizes': (512,), 'max_iter': 10}\n",
            "0.683 (+/-0.047) for {'batch_size': 50, 'hidden_layer_sizes': (512,), 'max_iter': 20}\n",
            "0.225 (+/-0.141) for {'batch_size': 50, 'hidden_layer_sizes': (1024,), 'max_iter': 5}\n",
            "0.683 (+/-0.047) for {'batch_size': 50, 'hidden_layer_sizes': (1024,), 'max_iter': 10}\n",
            "0.667 (+/-0.047) for {'batch_size': 50, 'hidden_layer_sizes': (1024,), 'max_iter': 20}\n"
          ],
          "name": "stdout"
        }
      ]
    },
    {
      "cell_type": "code",
      "metadata": {
        "id": "1e2DtOPtz9u-",
        "colab_type": "code",
        "outputId": "0f3206c2-19ee-4852-ea61-5cb721625bcc",
        "colab": {
          "base_uri": "https://localhost:8080/",
          "height": 218
        }
      },
      "source": [
        "y_true, y_pred = Y_test , clf.predict(X_test)\n",
        "\n",
        "from sklearn.metrics import classification_report\n",
        "print('Results on the test set:')\n",
        "print(classification_report(y_true, y_pred))\n"
      ],
      "execution_count": 0,
      "outputs": [
        {
          "output_type": "stream",
          "text": [
            "Results on the test set:\n",
            "              precision    recall  f1-score   support\n",
            "\n",
            "           0       1.00      1.00      1.00        10\n",
            "           1       1.00      0.92      0.96        12\n",
            "           2       1.00      0.75      0.86         8\n",
            "\n",
            "   micro avg       1.00      0.90      0.95        30\n",
            "   macro avg       1.00      0.89      0.94        30\n",
            "weighted avg       1.00      0.90      0.94        30\n",
            " samples avg       0.90      0.90      0.90        30\n",
            "\n"
          ],
          "name": "stdout"
        }
      ]
    },
    {
      "cell_type": "code",
      "metadata": {
        "id": "Ikrvc-Jg0Hqq",
        "colab_type": "code",
        "outputId": "cf478a08-f851-41df-ee06-25ab873232e7",
        "colab": {
          "base_uri": "https://localhost:8080/",
          "height": 50
        }
      },
      "source": [
        "print(\"Accuracy of the tuned model: %.4f\" %clf.best_score_)\n",
        "print(clf.best_params_)"
      ],
      "execution_count": 0,
      "outputs": [
        {
          "output_type": "stream",
          "text": [
            "Accuracy of the tuned model: 0.7500\n",
            "{'batch_size': 10, 'hidden_layer_sizes': (1024,), 'max_iter': 20}\n"
          ],
          "name": "stdout"
        }
      ]
    },
    {
      "cell_type": "code",
      "metadata": {
        "id": "Ztvk38B_3r6X",
        "colab_type": "code",
        "outputId": "6670f24f-1ac3-4d5e-e9bc-d166800fe71f",
        "colab": {
          "base_uri": "https://localhost:8080/",
          "height": 34
        }
      },
      "source": [
        "clf.score(X_train, Y_train)"
      ],
      "execution_count": 0,
      "outputs": [
        {
          "output_type": "execute_result",
          "data": {
            "text/plain": [
              "0.9333333333333333"
            ]
          },
          "metadata": {
            "tags": []
          },
          "execution_count": 31
        }
      ]
    },
    {
      "cell_type": "code",
      "metadata": {
        "id": "8YftDJxxGCNx",
        "colab_type": "code",
        "colab": {}
      },
      "source": [
        "from sklearn.model_selection import RandomizedSearchCV"
      ],
      "execution_count": 0,
      "outputs": []
    },
    {
      "cell_type": "code",
      "metadata": {
        "id": "wctyFxRAIQ7J",
        "colab_type": "code",
        "outputId": "d8bc3b7f-5c68-4069-e555-a34b8794e163",
        "colab": {
          "base_uri": "https://localhost:8080/",
          "height": 403
        }
      },
      "source": [
        "random = RandomizedSearchCV(mlp, parameter_space, n_jobs=-1, cv=3)\n",
        "random.fit(X_train, Y_train)"
      ],
      "execution_count": 0,
      "outputs": [
        {
          "output_type": "execute_result",
          "data": {
            "text/plain": [
              "RandomizedSearchCV(cv=3, error_score=nan,\n",
              "                   estimator=MLPClassifier(activation='relu', alpha=0.0001,\n",
              "                                           batch_size='auto', beta_1=0.9,\n",
              "                                           beta_2=0.999, early_stopping=False,\n",
              "                                           epsilon=1e-08,\n",
              "                                           hidden_layer_sizes=(100,),\n",
              "                                           learning_rate='constant',\n",
              "                                           learning_rate_init=0.001,\n",
              "                                           max_fun=15000, max_iter=200,\n",
              "                                           momentum=0.9, n_iter_no_change=10,\n",
              "                                           nesterovs_momentum=True, power_t=0.5,\n",
              "                                           random...fle=True,\n",
              "                                           solver='adam', tol=0.0001,\n",
              "                                           validation_fraction=0.1,\n",
              "                                           verbose=False, warm_start=False),\n",
              "                   iid='deprecated', n_iter=10, n_jobs=-1,\n",
              "                   param_distributions={'batch_size': [10, 50],\n",
              "                                        'hidden_layer_sizes': [(64,), (128,),\n",
              "                                                               (256,), (512,),\n",
              "                                                               (1024,)],\n",
              "                                        'max_iter': [5, 10, 20]},\n",
              "                   pre_dispatch='2*n_jobs', random_state=None, refit=True,\n",
              "                   return_train_score=False, scoring=None, verbose=0)"
            ]
          },
          "metadata": {
            "tags": []
          },
          "execution_count": 33
        }
      ]
    },
    {
      "cell_type": "code",
      "metadata": {
        "id": "0JLY5Qf6Ip1X",
        "colab_type": "code",
        "outputId": "c3ad60bc-1b00-4265-aeaf-076fc8535de0",
        "colab": {
          "base_uri": "https://localhost:8080/",
          "height": 218
        }
      },
      "source": [
        "# Best paramete set\n",
        "print('Best parameters found:\\n', random.best_params_)\n",
        "\n",
        "# All results\n",
        "means = random.cv_results_['mean_test_score']\n",
        "stds = random.cv_results_['std_test_score']\n",
        "for mean, std, params in zip(means, stds, random.cv_results_['params']):\n",
        "    print(\"%0.3f (+/-%0.03f) for %r\" % (mean, std * 2, params))"
      ],
      "execution_count": 0,
      "outputs": [
        {
          "output_type": "stream",
          "text": [
            "Best parameters found:\n",
            " {'max_iter': 20, 'hidden_layer_sizes': (1024,), 'batch_size': 10}\n",
            "0.108 (+/-0.306) for {'max_iter': 5, 'hidden_layer_sizes': (1024,), 'batch_size': 50}\n",
            "0.508 (+/-0.295) for {'max_iter': 5, 'hidden_layer_sizes': (256,), 'batch_size': 10}\n",
            "0.108 (+/-0.306) for {'max_iter': 20, 'hidden_layer_sizes': (64,), 'batch_size': 50}\n",
            "0.667 (+/-0.047) for {'max_iter': 20, 'hidden_layer_sizes': (256,), 'batch_size': 50}\n",
            "0.667 (+/-0.047) for {'max_iter': 10, 'hidden_layer_sizes': (128,), 'batch_size': 10}\n",
            "0.708 (+/-0.085) for {'max_iter': 20, 'hidden_layer_sizes': (1024,), 'batch_size': 10}\n",
            "0.117 (+/-0.262) for {'max_iter': 20, 'hidden_layer_sizes': (128,), 'batch_size': 50}\n",
            "0.458 (+/-0.366) for {'max_iter': 10, 'hidden_layer_sizes': (512,), 'batch_size': 50}\n",
            "0.108 (+/-0.306) for {'max_iter': 5, 'hidden_layer_sizes': (256,), 'batch_size': 50}\n",
            "0.125 (+/-0.147) for {'max_iter': 5, 'hidden_layer_sizes': (64,), 'batch_size': 10}\n"
          ],
          "name": "stdout"
        }
      ]
    },
    {
      "cell_type": "code",
      "metadata": {
        "id": "7KAg99EcIyf3",
        "colab_type": "code",
        "outputId": "ee5cb038-a7c5-431c-f07c-0f643cedc6af",
        "colab": {
          "base_uri": "https://localhost:8080/",
          "height": 218
        }
      },
      "source": [
        "y_true, y_pred = Y_test , random.predict(X_test)\n",
        "\n",
        "from sklearn.metrics import classification_report\n",
        "print('Results on the test set:')\n",
        "print(classification_report(y_true, y_pred))"
      ],
      "execution_count": 0,
      "outputs": [
        {
          "output_type": "stream",
          "text": [
            "Results on the test set:\n",
            "              precision    recall  f1-score   support\n",
            "\n",
            "           0       1.00      1.00      1.00        10\n",
            "           1       1.00      0.83      0.91        12\n",
            "           2       1.00      1.00      1.00         8\n",
            "\n",
            "   micro avg       1.00      0.93      0.97        30\n",
            "   macro avg       1.00      0.94      0.97        30\n",
            "weighted avg       1.00      0.93      0.96        30\n",
            " samples avg       0.93      0.93      0.93        30\n",
            "\n"
          ],
          "name": "stdout"
        }
      ]
    },
    {
      "cell_type": "code",
      "metadata": {
        "id": "mgNe3xptI6XT",
        "colab_type": "code",
        "outputId": "0986b218-836a-4169-cd04-80f93d14ed18",
        "colab": {
          "base_uri": "https://localhost:8080/",
          "height": 34
        }
      },
      "source": [
        "random.score(X_train, Y_train)"
      ],
      "execution_count": 0,
      "outputs": [
        {
          "output_type": "execute_result",
          "data": {
            "text/plain": [
              "0.9166666666666666"
            ]
          },
          "metadata": {
            "tags": []
          },
          "execution_count": 36
        }
      ]
    },
    {
      "cell_type": "code",
      "metadata": {
        "id": "hDNC0h1mJAD1",
        "colab_type": "code",
        "colab": {}
      },
      "source": [
        ""
      ],
      "execution_count": 0,
      "outputs": []
    }
  ]
}